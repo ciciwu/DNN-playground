{
  "nbformat": 4,
  "nbformat_minor": 0,
  "metadata": {
    "colab": {
      "provenance": [],
      "authorship_tag": "ABX9TyPilrvHLNT+YUzhCA1nJzvB",
      "include_colab_link": true
    },
    "kernelspec": {
      "name": "python3",
      "display_name": "Python 3"
    },
    "language_info": {
      "name": "python"
    }
  },
  "cells": [
    {
      "cell_type": "markdown",
      "metadata": {
        "id": "view-in-github",
        "colab_type": "text"
      },
      "source": [
        "<a href=\"https://colab.research.google.com/github/ciciwu/DNN-playground/blob/master/MNIST_simple.ipynb\" target=\"_parent\"><img src=\"https://colab.research.google.com/assets/colab-badge.svg\" alt=\"Open In Colab\"/></a>"
      ]
    },
    {
      "cell_type": "code",
      "execution_count": 2,
      "metadata": {
        "id": "nu32L6J_YxOL"
      },
      "outputs": [],
      "source": [
        "import torch\n",
        "import torch.nn as nn\n",
        "import torchvision\n",
        "import torchvision.transforms as transforms\n",
        "import matplotlib.pyplot as plt"
      ]
    },
    {
      "cell_type": "code",
      "source": [
        "device = torch.device('cuda' if torch.cuda.is_available() else 'cpu')"
      ],
      "metadata": {
        "id": "lLBFYwp4ZC8k"
      },
      "execution_count": 3,
      "outputs": []
    },
    {
      "cell_type": "code",
      "source": [
        "device"
      ],
      "metadata": {
        "colab": {
          "base_uri": "https://localhost:8080/"
        },
        "id": "57puHp1nZR_D",
        "outputId": "8e115850-bf5d-422b-dab9-ff4730b17abd"
      },
      "execution_count": 4,
      "outputs": [
        {
          "output_type": "execute_result",
          "data": {
            "text/plain": [
              "device(type='cpu')"
            ]
          },
          "metadata": {},
          "execution_count": 4
        }
      ]
    },
    {
      "cell_type": "code",
      "source": [
        "input_size = 28*28\n",
        "hidden_size=100\n",
        "num_classes=10\n",
        "num_epochs = 3\n",
        "batch_size=100\n",
        "learning_rate=0.001"
      ],
      "metadata": {
        "id": "D_fWyrfSZSml"
      },
      "execution_count": 5,
      "outputs": []
    },
    {
      "cell_type": "code",
      "source": [
        "train_dataset = torchvision.datasets.MNIST(root='./data',train=True,\n",
        "                                          transform=transforms.ToTensor(),download=True)\n",
        "test_dataset = torchvision.datasets.MNIST(root='./data',train=False,\n",
        "                                          transform=transforms.ToTensor(),download=True)"
      ],
      "metadata": {
        "id": "ABR-ABk6ZlKU"
      },
      "execution_count": 10,
      "outputs": []
    },
    {
      "cell_type": "code",
      "source": [
        "train_loader=torch.utils.data.DataLoader(dataset=train_dataset, shuffle=True,batch_size=batch_size)\n",
        "test_loader=torch.utils.data.DataLoader(dataset=test_dataset, shuffle=True,batch_size=batch_size)"
      ],
      "metadata": {
        "id": "v9a34xstZ-4R"
      },
      "execution_count": 11,
      "outputs": []
    },
    {
      "cell_type": "code",
      "source": [
        "example=iter(train_loader)\n",
        "samples,labels=next(example)"
      ],
      "metadata": {
        "id": "Nu7RKFYCah53"
      },
      "execution_count": 12,
      "outputs": []
    },
    {
      "cell_type": "code",
      "source": [
        "samples.shape"
      ],
      "metadata": {
        "colab": {
          "base_uri": "https://localhost:8080/"
        },
        "id": "NPnvuG1Fa0H4",
        "outputId": "36bd1c62-4a97-4576-ab85-88ccfbbf0d64"
      },
      "execution_count": 14,
      "outputs": [
        {
          "output_type": "execute_result",
          "data": {
            "text/plain": [
              "torch.Size([100, 1, 28, 28])"
            ]
          },
          "metadata": {},
          "execution_count": 14
        }
      ]
    },
    {
      "cell_type": "code",
      "source": [
        "labels.shape"
      ],
      "metadata": {
        "colab": {
          "base_uri": "https://localhost:8080/"
        },
        "id": "GfJegg9Ka1nM",
        "outputId": "e8d9d87b-06a9-4582-c383-083f2e611f90"
      },
      "execution_count": 16,
      "outputs": [
        {
          "output_type": "execute_result",
          "data": {
            "text/plain": [
              "torch.Size([100])"
            ]
          },
          "metadata": {},
          "execution_count": 16
        }
      ]
    },
    {
      "cell_type": "code",
      "source": [
        "plt.imshow(samples[0][0])"
      ],
      "metadata": {
        "colab": {
          "base_uri": "https://localhost:8080/",
          "height": 448
        },
        "id": "PHEkdkbEa4E-",
        "outputId": "b4dab6b3-4a96-40b4-f4ee-fc75cac47e71"
      },
      "execution_count": 19,
      "outputs": [
        {
          "output_type": "execute_result",
          "data": {
            "text/plain": [
              "<matplotlib.image.AxesImage at 0x7af7b1ee8400>"
            ]
          },
          "metadata": {},
          "execution_count": 19
        },
        {
          "output_type": "display_data",
          "data": {
            "text/plain": [
              "<Figure size 640x480 with 1 Axes>"
            ],
            "image/png": "[encoded data removed]"
          },
          "metadata": {}
        }
      ]
    },
    {
      "cell_type": "code",
      "source": [
        "class Model(nn.Module):\n",
        "  def __init__(self,input_size,hidden_size,num_classes):\n",
        "    super(Model,self).__init__()\n",
        "    self.net = nn.Sequential(\n",
        "     nn.Linear(input_size,hidden_size),\n",
        "     nn.ReLU(),\n",
        "     nn.Linear(hidden_size,num_classes)\n",
        "    )\n",
        "\n",
        "  def forward(self,x):\n",
        "    out = self.net(x)\n",
        "    return out\n",
        "\n",
        "\n"
      ],
      "metadata": {
        "id": "0QQJR8k0bNT2"
      },
      "execution_count": 22,
      "outputs": []
    },
    {
      "cell_type": "code",
      "source": [
        "model = Model(input_size,hidden_size,num_classes)\n"
      ],
      "metadata": {
        "id": "luA3GKjcc9ca"
      },
      "execution_count": 23,
      "outputs": []
    },
    {
      "cell_type": "code",
      "source": [
        "model.net"
      ],
      "metadata": {
        "colab": {
          "base_uri": "https://localhost:8080/"
        },
        "id": "fFTQBWGCdC92",
        "outputId": "984847a9-bc5e-45d6-cc85-069f4b6b9df3"
      },
      "execution_count": 26,
      "outputs": [
        {
          "output_type": "execute_result",
          "data": {
            "text/plain": [
              "Sequential(\n",
              "  (0): Linear(in_features=784, out_features=100, bias=True)\n",
              "  (1): ReLU()\n",
              "  (2): Linear(in_features=100, out_features=10, bias=True)\n",
              ")"
            ]
          },
          "metadata": {},
          "execution_count": 26
        }
      ]
    },
    {
      "cell_type": "code",
      "source": [
        "criterion= nn.CrossEntropyLoss()\n",
        "optimizer = torch.optim.Adam(model.parameters(),lr=learning_rate)\n"
      ],
      "metadata": {
        "id": "gBi0K73bdG_c"
      },
      "execution_count": 27,
      "outputs": []
    },
    {
      "cell_type": "code",
      "source": [
        "for i in range(num_epochs):\n",
        "  for j,(samples,labels) in enumerate(train_loader):\n",
        "    samples = samples.reshape(-1,28*28).to(device)\n",
        "    labels=labels.to(device)\n",
        "    optimizer.zero_grad()\n",
        "    pred = model(samples)\n",
        "    loss = criterion(pred,labels)\n",
        "    loss.backward()\n",
        "    optimizer.step()\n",
        "\n",
        "  print(f'epech {i}, loss {loss.item() : 5}')"
      ],
      "metadata": {
        "colab": {
          "base_uri": "https://localhost:8080/"
        },
        "id": "8VCuDSa0ddyZ",
        "outputId": "26c71b12-22e6-4e1c-8c56-7205b38f449a"
      },
      "execution_count": 30,
      "outputs": [
        {
          "output_type": "stream",
          "name": "stdout",
          "text": [
            "epech 0, loss  0.2596795856952667\n",
            "epech 1, loss  0.0984291136264801\n"
          ]
        }
      ]
    },
    {
      "cell_type": "code",
      "source": [
        "with torch.no_grad():\n",
        "  n_correct=0\n",
        "  n_samples=0\n",
        "  for samples,labels in test_loader:\n",
        "    plt.imshow(samples[0][0])\n",
        "    samples = samples.reshape(-1,28*28).to(device)\n",
        "    labels=labels.to(device)\n",
        "    scores = model(samples)\n",
        "    print(scores[0])\n",
        "  # val, idx\n",
        "\n",
        "\n",
        "    _,predictions = torch.max(scores,1)\n",
        "    n_samples += labels.shape[0]\n",
        "    n_correct +=(predictions==labels).sum().item()\n",
        "    acc = 100.0 *n_correct/n_samples\n",
        "    print(f'accuracy : { acc: 5f}')\n",
        "\n",
        ""
      ],
      "metadata": {
        "colab": {
          "base_uri": "https://localhost:8080/",
          "height": 1000
        },
        "id": "KrMZufpheL2w",
        "outputId": "b75c10f4-77e3-40e2-cb7f-dac37d16c823"
      },
      "execution_count": 33,
      "outputs": [
        {
          "output_type": "stream",
          "name": "stdout",
          "text": [
            "tensor([ -3.5006,  -3.2467,   0.7402,  -2.7443,  -3.1681,   0.0352,  12.0011,\n",
            "        -10.6734,   0.7583,  -9.2267])\n",
            "accuracy :  97.000000\n",
            "tensor([-2.7431, -0.9651, -4.6142, -0.9054, -3.3309,  2.9572, -4.8330, -2.6312,\n",
            "         0.1417, -2.7951])\n",
            "accuracy :  97.500000\n",
            "tensor([ -2.7888,  -4.2266,  -2.6860,   9.5096, -10.3991,   1.4597, -11.4586,\n",
            "         -6.6384,  -1.1502,  -2.6102])\n",
            "accuracy :  98.000000\n",
            "tensor([-2.3688, -2.9620,  2.8519, -2.4043, -1.9475, -3.2303,  7.7223, -6.7283,\n",
            "         0.8281, -3.9050])\n",
            "accuracy :  97.000000\n",
            "tensor([ -3.3620, -11.1377,  -3.3711,  -3.3678,  -5.8494,  -3.2411, -15.4755,\n",
            "          9.1908,  -3.8715,   0.8436])\n",
            "accuracy :  96.800000\n",
            "tensor([ -5.0804,  -2.6980,   1.4023,  -1.7931,  -8.6722,  -0.5877,   2.1163,\n",
            "        -11.0247,   8.3746,  -6.2098])\n",
            "accuracy :  97.166667\n",
            "tensor([-1.9263, -9.5060, -1.8574, -5.8742,  2.9606,  0.8834,  0.2281, -6.2386,\n",
            "         5.6225, -1.9667])\n",
            "accuracy :  97.000000\n",
            "tensor([ -3.8947, -11.6063,  -2.9399,  -8.8096,  10.4338,  -4.1947,  -0.1021,\n",
            "         -0.2620,  -2.5373,   0.9923])\n",
            "accuracy :  96.750000\n",
            "tensor([-3.4611, -3.9668, -5.4793, -2.8295, -0.9123,  4.9821,  1.1095, -6.3876,\n",
            "        -0.3643, -2.9513])\n",
            "accuracy :  96.444444\n",
            "tensor([10.1057, -3.4909, -0.6915, -5.8290, -9.7000, -0.6544,  1.9103, -5.7926,\n",
            "        -4.5289, -4.6693])\n",
            "accuracy :  96.500000\n",
            "tensor([ 8.2068, -3.5202, -1.4313, -7.3039, -4.3075, -2.7138,  0.8802, -3.8991,\n",
            "        -4.0193, -2.6861])\n",
            "accuracy :  96.363636\n",
            "tensor([-4.2439, -1.2685, -1.4632,  2.9660, -0.3706, -0.1170, -2.8026, -5.5938,\n",
            "         0.0479, -3.9159])\n",
            "accuracy :  96.416667\n",
            "tensor([  1.3203,  -7.4205,  -2.4050, -10.3548,   2.0729,  -3.2841,   9.3781,\n",
            "         -4.3932,  -4.5394,  -2.4070])\n",
            "accuracy :  96.384615\n",
            "tensor([-5.3324, -8.7143,  0.2410, -4.0310, -2.0231, -2.3226, -3.5756, -5.9773,\n",
            "         6.1090, -1.0327])\n",
            "accuracy :  96.571429\n",
            "tensor([ 6.6255, -7.5289,  0.2287, -2.6798, -5.2106, -2.3866, -2.8145, -2.7457,\n",
            "        -3.3009, -2.1908])\n",
            "accuracy :  96.600000\n",
            "tensor([-7.1376, -8.2071, -5.0630, -1.7503, -0.7948, -2.2324, -8.3548,  0.9234,\n",
            "        -1.1403,  6.3510])\n",
            "accuracy :  96.562500\n",
            "tensor([-0.7627, -0.2802, -3.6945, -5.0041, -2.7615,  0.9836,  7.7453, -7.1781,\n",
            "         0.7271, -5.7435])\n",
            "accuracy :  96.588235\n",
            "tensor([ -0.1668,  -4.0752,  -0.3490,  -4.9681,  -4.7332,   1.6338,   9.0252,\n",
            "        -10.8925,   1.8527,  -3.1717])\n",
            "accuracy :  96.500000\n",
            "tensor([-1.4030, -6.1803,  1.1103, -7.8309,  2.5488, -2.2952,  8.8155, -2.9268,\n",
            "        -5.8332, -3.4583])\n",
            "accuracy :  96.368421\n",
            "tensor([ -6.4409,  -3.6451,  -2.1060,  -1.6454,  -7.1688,  -3.6903, -14.9845,\n",
            "          9.0978,  -2.9081,  -2.0250])\n",
            "accuracy :  96.300000\n",
            "tensor([ 1.5868, -3.4394,  0.2613, -7.4448, -0.7934, -0.3753,  9.8643, -4.8119,\n",
            "        -4.8482, -7.1292])\n",
            "accuracy :  96.380952\n",
            "tensor([ -2.8462,  -7.8497,  -0.7318,   0.8067,  -9.8790,  -1.6724, -15.2520,\n",
            "          7.6957,  -4.3752,  -0.8696])\n",
            "accuracy :  96.318182\n",
            "tensor([ -1.5708,  -2.8454,  12.0283,   1.8745,  -5.1095,  -4.4060,  -3.2341,\n",
            "        -10.0239,  -1.5891, -12.6543])\n",
            "accuracy :  96.217391\n",
            "tensor([ -6.9032,  -1.7789,  -1.4459,   0.6053,  -6.2334,  -3.9653, -11.6266,\n",
            "          5.5096,  -3.3230,  -0.3070])\n",
            "accuracy :  96.125000\n",
            "tensor([-7.8984, -5.2293, -6.3740, -3.0783,  1.7593, -1.3995, -5.8002, -3.0363,\n",
            "        -0.3035,  6.7896])\n",
            "accuracy :  96.200000\n",
            "tensor([-3.3051, -4.0302, -6.7205, -0.6182,  4.7498, -2.0416, -4.4145,  0.4017,\n",
            "        -3.8284,  1.8886])\n",
            "accuracy :  96.038462\n",
            "tensor([-5.6571, -6.8051, -4.2403, -5.0568,  7.9045, -1.8611, -1.7896, -1.0766,\n",
            "         0.5010, -0.8913])\n",
            "accuracy :  96.074074\n",
            "tensor([ -6.8308,  -7.3529,  -7.1420,  -3.1558,  -3.3760,  -2.1614, -13.8599,\n",
            "          8.6362,  -3.1797,   2.1377])\n",
            "accuracy :  96.035714\n",
            "tensor([ 10.5432, -11.6783,   0.1349,  -5.3790,  -5.1120,  -6.3911,  -6.5018,\n",
            "         -0.7473,  -4.9814,   1.2721])\n",
            "accuracy :  96.068966\n",
            "tensor([-9.7909, -1.6312, -0.7184,  7.1970, -7.4463, -2.4868, -9.1942, -5.5664,\n",
            "         2.0931, -4.3358])\n",
            "accuracy :  96.066667\n",
            "tensor([-5.9792, -6.8034, -5.9670, -1.0405,  0.0648, -0.9344, -5.8598, -1.1997,\n",
            "        -0.4898,  6.2820])\n",
            "accuracy :  96.096774\n",
            "tensor([-5.4266, -4.9013, -1.3228,  0.3586, -2.0657, -0.3793, -5.2608, -6.8532,\n",
            "         6.4063, -2.2454])\n",
            "accuracy :  96.156250\n",
            "tensor([-0.0094, -6.5219,  0.6469, -3.3844,  4.8097, -3.6105, -0.8457, -3.2883,\n",
            "        -3.7592,  1.2374])\n",
            "accuracy :  96.030303\n",
            "tensor([ -6.4080,  -0.9655,  -0.2869,   0.7925,  -6.4177,  -5.5868, -10.2200,\n",
            "          4.4597,  -2.4175,  -1.4678])\n",
            "accuracy :  96.117647\n",
            "tensor([-7.9745, -7.7127, -5.3016, -5.5763,  8.8021, -2.5224, -4.6218, -2.4628,\n",
            "        -0.4746,  2.2341])\n",
            "accuracy :  96.171429\n",
            "tensor([ -5.7358, -10.6896,  -3.9874,  -3.1004,  -0.3173,  -3.2849,  -6.5939,\n",
            "         -3.6691,   2.3008,   5.8370])\n",
            "accuracy :  96.166667\n",
            "tensor([-3.2737, -2.4342,  0.7099,  1.5971, -1.3192, -1.2549, -1.2188, -6.9173,\n",
            "         3.9309, -4.4048])\n",
            "accuracy :  96.243243\n",
            "tensor([ -2.3304,  -2.3872,  11.4993,   1.1533,  -7.6543,  -5.1957,  -3.7499,\n",
            "         -7.0299,   0.1058, -10.7667])\n",
            "accuracy :  96.289474\n",
            "tensor([ 0.1133, -7.9420,  1.3776, -9.0404,  7.9618, -3.7293,  2.3076, -3.4343,\n",
            "        -1.6993,  0.2198])\n",
            "accuracy :  96.230769\n",
            "tensor([ -4.4119, -10.1733,   0.2155,   1.6867,  -9.2488,  -4.9517, -18.1135,\n",
            "         10.3736,  -4.5278,  -3.1524])\n",
            "accuracy :  96.275000\n",
            "tensor([ -2.1809,  -3.1186,  10.5203,  -0.3394, -11.7238,  -3.2270,  -7.1974,\n",
            "         -4.5179,   0.0138,  -8.7465])\n",
            "accuracy :  96.317073\n",
            "tensor([-9.8884,  7.6137, -3.5398, -0.4862, -6.2054, -3.7946, -3.8671, -5.4083,\n",
            "         0.6918, -3.3676])\n",
            "accuracy :  96.261905\n",
            "tensor([-6.2162, -7.2082, -1.0002, -3.6608,  0.2789, -0.0641, -1.3562, -6.4808,\n",
            "         8.7785, -2.9571])\n",
            "accuracy :  96.279070\n",
            "tensor([-5.9354,  7.0938, -0.9659, -1.9027, -6.5127, -6.1632, -4.0061, -1.1242,\n",
            "        -1.3297, -4.9503])\n",
            "accuracy :  96.204545\n",
            "tensor([-2.5428,  0.6513, -0.1144, -0.4135, -7.2033, -1.2608,  0.4516, -9.6032,\n",
            "         3.2720, -5.4288])\n",
            "accuracy :  96.222222\n",
            "tensor([ -5.6922,   3.1154,  10.6510,   3.5428, -13.3276,  -6.8406,  -6.8983,\n",
            "         -4.4582,   0.7964, -10.9849])\n",
            "accuracy :  96.239130\n",
            "tensor([-2.3675, -5.4154, -2.9834,  0.9408, -3.2141,  3.4313, -6.1130, -4.9257,\n",
            "         1.7800,  0.8721])\n",
            "accuracy :  96.255319\n",
            "tensor([-6.1975, -3.1359, -7.2274,  4.1591, -9.9074,  5.8442, -4.5989, -9.0586,\n",
            "         0.3236, -1.5625])\n",
            "accuracy :  96.291667\n",
            "tensor([-4.4990, -5.0696, -2.3041, -5.1206,  6.6097, -3.3596, -2.3626, -1.0983,\n",
            "         0.0923,  1.5219])\n",
            "accuracy :  96.346939\n",
            "tensor([-6.5059,  2.5763, -1.5741,  0.6680, -7.1808, -2.7975, -6.2085,  1.3435,\n",
            "        -1.5374, -2.3836])\n",
            "accuracy :  96.360000\n",
            "tensor([ -7.9558,  -3.6858,  -0.3729,   1.3805, -10.3827,  -5.9247, -16.3595,\n",
            "          7.4575,  -2.1284,  -2.3237])\n",
            "accuracy :  96.392157\n",
            "tensor([-4.0124, -3.9377, -2.2621, -3.5553, -2.1237, -3.5868, -9.5012,  6.8821,\n",
            "        -4.3951,  0.0417])\n",
            "accuracy :  96.403846\n",
            "tensor([ -6.3745,  -5.0319,  -2.2593,  -1.9181,  -8.0456,  -2.5324, -13.9459,\n",
            "          7.8590,  -3.9426,  -0.8435])\n",
            "accuracy :  96.396226\n",
            "tensor([ -4.6213,  -7.1215,  -5.5843,  -3.0714,  -2.5641,  -1.8888, -12.9499,\n",
            "          9.7758,  -4.9857,   1.7268])\n",
            "accuracy :  96.388889\n",
            "tensor([-9.4511, -5.2228, -6.9141, -2.7125,  1.8430, -4.4458, -9.2442, -1.7929,\n",
            "         1.0176,  6.9176])\n",
            "accuracy :  96.254545\n",
            "tensor([ 1.6509, -6.6613, -0.9906, -6.0504, -0.3689, -4.8098,  6.5195, -4.7136,\n",
            "        -0.7294, -2.1293])\n",
            "accuracy :  96.214286\n",
            "tensor([-9.6425, -7.0162, -8.8428, -2.3868,  3.7828, -0.1272, -5.3718,  0.0868,\n",
            "        -4.7656,  6.1124])\n",
            "accuracy :  96.210526\n",
            "tensor([-7.5466,  5.2343, -1.9883, -0.0101, -3.1269, -2.1257, -2.9073, -4.2057,\n",
            "         0.1673, -1.9809])\n",
            "accuracy :  96.206897\n",
            "tensor([-4.8278,  5.4236, -0.3437, -1.3208, -3.0261, -5.0921, -3.7118,  0.4125,\n",
            "        -1.1764, -4.6151])\n",
            "accuracy :  96.203390\n",
            "tensor([-0.0839, -4.3273, -2.2487, -0.8733, -4.5578,  1.9930,  9.3938, -9.3385,\n",
            "        -0.0941, -5.8945])\n",
            "accuracy :  96.183333\n",
            "tensor([-4.4635,  6.3016, -1.0462, -2.0355, -5.9930, -4.5592, -2.0701, -2.9481,\n",
            "        -0.1154, -6.2636])\n",
            "accuracy :  96.180328\n",
            "tensor([-5.7993,  6.8742, -1.5813, -1.2722, -5.5797, -5.6851, -3.9066, -0.9669,\n",
            "        -1.0278, -5.1174])\n",
            "accuracy :  96.177419\n",
            "tensor([ 0.4649, -3.4800, -1.5203, -2.7596, -3.0968,  4.3645,  2.1250, -6.0831,\n",
            "         0.3348, -5.1500])\n",
            "accuracy :  96.174603\n",
            "tensor([ -5.0344,  -1.0244,   4.1029,   2.0824, -13.2128,  -6.5303,  -7.6087,\n",
            "         -7.1605,   6.3813,  -3.2451])\n",
            "accuracy :  96.187500\n",
            "tensor([-3.8750, -8.8539,  1.0727, -7.0423,  9.0881, -5.8854, -2.3716, -1.5445,\n",
            "        -3.5318,  0.5257])\n",
            "accuracy :  96.230769\n",
            "tensor([-5.7311, -4.9422, -3.2965, -4.6047,  4.6709, -5.8249, -2.0941,  2.0170,\n",
            "        -3.1293,  1.8885])\n",
            "accuracy :  96.242424\n",
            "tensor([ -0.8931,  -3.4354,   1.4701,  -3.8140,  -4.3187,   0.9942,   9.0585,\n",
            "        -10.4050,   1.0838,  -5.7733])\n",
            "accuracy :  96.268657\n",
            "tensor([-9.4428,  7.4311, -3.4347,  0.0457, -6.0977, -7.7964, -5.9868, -2.7746,\n",
            "        -0.5981, -1.8031])\n",
            "accuracy :  96.294118\n",
            "tensor([-8.9055,  7.0053, -1.9055, -0.5487, -7.0175, -5.0611, -3.6494, -3.4599,\n",
            "         0.5055, -4.4269])\n",
            "accuracy :  96.333333\n",
            "tensor([-5.4603,  2.9828, -4.7164, -3.9953, -2.3182, -1.6043, -3.7722,  1.1635,\n",
            "        -3.8061, -1.4550])\n",
            "accuracy :  96.357143\n",
            "tensor([-2.6758, -4.6366, -5.3570, -0.2655, -1.7407,  0.3229, -8.6783,  2.2104,\n",
            "        -2.6472,  4.1307])\n",
            "accuracy :  96.352113\n",
            "tensor([ -6.5676,  -4.3957,  -1.9435,   1.8877,  -9.1386,  -2.3266, -14.7591,\n",
            "         -1.5423,   5.7596,  -2.6856])\n",
            "accuracy :  96.347222\n",
            "tensor([ -0.8307,  -9.0852,   2.0450,  -5.8815,  -4.8469,  -0.1398,   1.9895,\n",
            "        -17.0811,   9.0885,  -2.5755])\n",
            "accuracy :  96.369863\n",
            "tensor([-5.1485,  6.9608, -0.1720, -1.7904, -4.2382, -5.6222, -4.5926, -0.4600,\n",
            "        -1.5606, -7.0176])\n",
            "accuracy :  96.351351\n",
            "tensor([ 8.1098, -8.2442, -0.8326, -3.4015, -3.8228, -3.7784, -8.4957,  1.5029,\n",
            "        -2.9494,  0.1095])\n",
            "accuracy :  96.346667\n",
            "tensor([-7.4691, -3.1645, -5.8127, -0.9578,  6.4738, -2.3719, -5.5242, -1.8003,\n",
            "        -0.2394,  1.1758])\n",
            "accuracy :  96.394737\n",
            "tensor([ -2.9838,  -3.2992,   1.8490,   8.3116,  -8.5943,   1.5707, -10.7106,\n",
            "         -5.1788,   0.0256,  -4.2795])\n",
            "accuracy :  96.376623\n",
            "tensor([ -3.3825, -14.1885,  -3.0877,  -9.3130,  10.2886,  -4.6562,  -4.0052,\n",
            "          1.7766,  -2.1412,   1.4058])\n",
            "accuracy :  96.358974\n",
            "tensor([ -4.5155,  -9.8307,  -4.6878,   3.8834,  -7.8390,   0.4372, -11.5823,\n",
            "         -4.7755,   0.1484,   2.3473])\n",
            "accuracy :  96.367089\n",
            "tensor([-2.8165, -2.9442,  1.6873, -1.7793, -0.1430, -1.4521,  8.8013, -6.1114,\n",
            "        -3.7734, -4.2665])\n",
            "accuracy :  96.350000\n",
            "tensor([-7.0090, -6.9527, -4.5088, -1.8453,  0.7125, -3.1175, -6.8086, -2.0651,\n",
            "        -0.4083,  7.7036])\n",
            "accuracy :  96.296296\n",
            "tensor([ -3.6165,   1.5232,  -2.3661,   3.2105, -15.0843,   7.9144,  -2.7102,\n",
            "        -11.6960,  -0.8202,  -5.8832])\n",
            "accuracy :  96.304878\n",
            "tensor([ -0.4655,  -7.3620,  10.1468,   1.2918, -12.1363,  -3.4422,  -5.5480,\n",
            "         -4.0543,   0.8190,  -8.9900])\n",
            "accuracy :  96.240964\n",
            "tensor([-6.8489, -3.0932, -4.1469,  1.9296, -8.6896,  7.5451, -8.1560, -8.0090,\n",
            "         1.7930, -1.5270])\n",
            "accuracy :  96.261905\n",
            "tensor([-4.3560,  4.8809,  0.1359, -1.3684, -1.2485, -4.7381, -3.6752,  0.9390,\n",
            "        -1.6876, -4.3710])\n",
            "accuracy :  96.258824\n",
            "tensor([-3.8453, -4.9025, -6.0105,  1.4171, -7.2043,  5.6846, -9.5663, -5.9140,\n",
            "        -2.0532,  0.6756])\n",
            "accuracy :  96.220930\n",
            "tensor([ -3.3522, -11.6347,  -4.7167,   1.9142,  -6.7849,  -0.7311, -10.9635,\n",
            "         -6.6846,   1.9491,   3.7106])\n",
            "accuracy :  96.241379\n",
            "tensor([ -3.6730,  -1.2111,   6.5168,   3.1129, -11.7166,  -3.5748,  -8.8221,\n",
            "         -1.5005,  -0.2449,  -4.5242])\n",
            "accuracy :  96.261364\n",
            "tensor([ -2.4446,  -0.8852,   7.4581,   1.9124, -11.3883,  -2.2172,  -7.1324,\n",
            "         -2.7739,  -2.1020,  -7.3016])\n",
            "accuracy :  96.280899\n",
            "tensor([ 4.0557, -5.1130, -1.6817, -8.3448, -0.7555, -1.2336,  8.3528, -4.4843,\n",
            "        -5.0818, -4.3620])\n",
            "accuracy :  96.277778\n",
            "tensor([ -5.8475,  -6.1276,  -2.1913,  -0.8215,  -5.3266,  -2.4397, -16.1274,\n",
            "         10.9766,  -4.0895,  -2.9910])\n",
            "accuracy :  96.241758\n",
            "tensor([ -3.7731,  -2.8919,   1.2768,   9.1853, -14.9318,   0.0421, -13.1518,\n",
            "         -1.5660,  -4.8744,  -3.4066])\n",
            "accuracy :  96.271739\n",
            "tensor([ -5.2774, -11.6726,  -4.6880,  -4.2747,   2.5843,  -5.7801,  -7.2509,\n",
            "          0.6215,   0.0756,   7.5855])\n",
            "accuracy :  96.258065\n",
            "tensor([  9.4632, -10.2564,  -0.0631,  -2.7347,  -7.0377,  -2.4602,  -5.5580,\n",
            "         -4.3590,   0.0631,  -1.4024])\n",
            "accuracy :  96.255319\n",
            "tensor([  7.3974, -13.6594,  -1.8430, -10.5377,  -1.3891,  -5.2753,  -1.7999,\n",
            "         -1.9116,  -3.8364,   3.8747])\n",
            "accuracy :  96.231579\n",
            "tensor([-0.9843, -5.3154,  2.5646, -3.8193, -8.6164,  4.8745, -1.0756, -3.3584,\n",
            "        -1.5828, -3.2506])\n",
            "accuracy :  96.218750\n",
            "tensor([-5.0026, -1.6173, -0.4980,  5.3619, -9.1556,  1.7833, -9.8011, -6.0632,\n",
            "         0.8545, -3.7531])\n",
            "accuracy :  96.226804\n",
            "tensor([-1.1372, -2.9842, -3.1723,  3.5162, -6.8144, -0.4962, -4.3446, -9.3862,\n",
            "         4.7448, -2.6010])\n",
            "accuracy :  96.244898\n",
            "tensor([-11.3825,   7.5136,  -3.6654,   0.3519,  -5.9195,  -5.9377,  -5.1677,\n",
            "         -4.7763,  -0.0569,  -2.4911])\n",
            "accuracy :  96.262626\n",
            "tensor([ -5.3873,  -4.8710,  -0.6295,   9.1921,  -7.1430,  -0.7845, -14.3426,\n",
            "         -6.7493,   1.8842,  -1.0132])\n",
            "accuracy :  96.290000\n"
          ]
        },
        {
          "output_type": "display_data",
          "data": {
            "text/plain": [
              "<Figure size 640x480 with 1 Axes>"
            ],
            "image/png": "[encoded data removed]"
          },
          "metadata": {}
        }
      ]
    },
    {
      "cell_type": "code",
      "source": [],
      "metadata": {
        "id": "ruRUKcn0fMDs"
      },
      "execution_count": null,
      "outputs": []
    }
  ]
}