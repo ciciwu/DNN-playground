{
  "nbformat": 4,
  "nbformat_minor": 0,
  "metadata": {
    "colab": {
      "provenance": [],
      "authorship_tag": "ABX9TyOOTV7SuRDiIl0IAH8SALgj",
      "include_colab_link": true
    },
    "kernelspec": {
      "name": "python3",
      "display_name": "Python 3"
    },
    "language_info": {
      "name": "python"
    }
  },
  "cells": [
    {
      "cell_type": "markdown",
      "metadata": {
        "id": "view-in-github",
        "colab_type": "text"
      },
      "source": [
        "<a href=\"https://colab.research.google.com/github/ciciwu/DNN-playground/blob/master/nn_factorizaiton_machine_simple.ipynb\" target=\"_parent\"><img src=\"https://colab.research.google.com/assets/colab-badge.svg\" alt=\"Open In Colab\"/></a>"
      ]
    },
    {
      "cell_type": "code",
      "source": [
        "import torch.nn as nn\n",
        "import torch"
      ],
      "metadata": {
        "id": "VEzszKZ5E0Ig"
      },
      "execution_count": 3,
      "outputs": []
    },
    {
      "cell_type": "code",
      "source": [
        "embedding=nn.Embedding(4,2)\n"
      ],
      "metadata": {
        "id": "2LjRQV4TE3RW"
      },
      "execution_count": 2,
      "outputs": []
    },
    {
      "cell_type": "code",
      "source": [
        "x=torch.tensor([3,2,1,0])"
      ],
      "metadata": {
        "id": "xSpTfImMFA9s"
      },
      "execution_count": 4,
      "outputs": []
    },
    {
      "cell_type": "code",
      "source": [
        "embedding(x)"
      ],
      "metadata": {
        "colab": {
          "base_uri": "https://localhost:8080/"
        },
        "id": "LOxNPTIvFYbr",
        "outputId": "1f75bd93-41e6-423a-c605-7b5ecf5506fa"
      },
      "execution_count": 8,
      "outputs": [
        {
          "output_type": "execute_result",
          "data": {
            "text/plain": [
              "tensor([[ 0.5803,  0.1145],\n",
              "        [-0.9930, -0.0902],\n",
              "        [ 0.2775,  1.0527],\n",
              "        [ 1.1221,  2.0111]], grad_fn=<EmbeddingBackward0>)"
            ]
          },
          "metadata": {},
          "execution_count": 8
        }
      ]
    },
    {
      "cell_type": "code",
      "source": [
        " torch.pow(embedding(x), 2)"
      ],
      "metadata": {
        "colab": {
          "base_uri": "https://localhost:8080/"
        },
        "id": "GR1jZhlIFO6V",
        "outputId": "ef2b59f6-c3fb-4b23-a5d1-0a08c172f9d4"
      },
      "execution_count": 12,
      "outputs": [
        {
          "output_type": "execute_result",
          "data": {
            "text/plain": [
              "tensor([[0.3368, 0.0131],\n",
              "        [0.9860, 0.0081],\n",
              "        [0.0770, 1.1082],\n",
              "        [1.2592, 4.0447]], grad_fn=<PowBackward0>)"
            ]
          },
          "metadata": {},
          "execution_count": 12
        }
      ]
    },
    {
      "cell_type": "code",
      "source": [
        "torch.pow(embedding(x), 2).sum(dim=1, keepdim=True)"
      ],
      "metadata": {
        "colab": {
          "base_uri": "https://localhost:8080/"
        },
        "id": "oW6XptBkFTAg",
        "outputId": "9b6a86f5-bdca-4511-c3eb-43cc082ab1bd"
      },
      "execution_count": 10,
      "outputs": [
        {
          "output_type": "execute_result",
          "data": {
            "text/plain": [
              "tensor([[0.3499],\n",
              "        [0.9941],\n",
              "        [1.1852],\n",
              "        [5.3039]], grad_fn=<SumBackward1>)"
            ]
          },
          "metadata": {},
          "execution_count": 10
        }
      ]
    },
    {
      "cell_type": "code",
      "source": [
        "pairwise_interactions = torch.sum(\n",
        "    torch.pow(embedding(x), 2) -\n",
        "    torch.pow(embedding(x), 2).sum(dim=1, keepdim=True),\n",
        "    dim=1, keepdim=True)"
      ],
      "metadata": {
        "id": "CakX-kDLE7xw"
      },
      "execution_count": 5,
      "outputs": []
    },
    {
      "cell_type": "code",
      "source": [
        "pairwise_interactions"
      ],
      "metadata": {
        "colab": {
          "base_uri": "https://localhost:8080/"
        },
        "id": "IefqXhjTFGvl",
        "outputId": "7e352336-871b-415c-a8d5-ec16b3232317"
      },
      "execution_count": 11,
      "outputs": [
        {
          "output_type": "execute_result",
          "data": {
            "text/plain": [
              "tensor([[-0.3499],\n",
              "        [-0.9941],\n",
              "        [-1.1852],\n",
              "        [-5.3039]], grad_fn=<SumBackward1>)"
            ]
          },
          "metadata": {},
          "execution_count": 11
        }
      ]
    },
    {
      "cell_type": "code",
      "execution_count": null,
      "metadata": {
        "id": "dFmt9l5UEymU"
      },
      "outputs": [],
      "source": [
        "class FactorizationMachine(nn.Module):\n",
        "    def __init__(self, num_features, embedding_dim):\n",
        "        super(FactorizationMachine, self).__init__()\n",
        "\n",
        "        # Linear term\n",
        "        self.linear = nn.Linear(num_features, 1)\n",
        "\n",
        "        # Pairwise interactions (factorization) term\n",
        "        self.embedding = nn.Embedding(num_features, embedding_dim)\n",
        "\n",
        "    def forward(self, x):\n",
        "        # Linear term: sum of biases and weights for each feature\n",
        "        linear_term = self.linear(x).sum(dim=1, keepdim=True)\n",
        "\n",
        "        # Pairwise interactions term: sum of element-wise products of embeddings\n",
        "        pairwise_interactions = torch.sum(torch.pow(self.embedding(x), 2) - torch.pow(self.embedding(x), 2).sum(dim=1, keepdim=True), dim=1, keepdim=True) * 0.5\n",
        "\n",
        "        # Final prediction is the sum of linear and pairwise terms\n",
        "        prediction = linear_term + pairwise_interactions\n",
        "\n",
        "        return prediction"
      ]
    }
  ]
}