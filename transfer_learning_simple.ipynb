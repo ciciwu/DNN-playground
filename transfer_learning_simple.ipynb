{
  "nbformat": 4,
  "nbformat_minor": 0,
  "metadata": {
    "colab": {
      "provenance": [],
      "authorship_tag": "ABX9TyOZx83Gnt0GprOqyYQO1InW",
      "include_colab_link": true
    },
    "kernelspec": {
      "name": "python3",
      "display_name": "Python 3"
    },
    "language_info": {
      "name": "python"
    }
  },
  "cells": [
    {
      "cell_type": "markdown",
      "metadata": {
        "id": "view-in-github",
        "colab_type": "text"
      },
      "source": [
        "<a href=\"https://colab.research.google.com/github/ciciwu/DNN-playground/blob/master/transfer_learning_simple.ipynb\" target=\"_parent\"><img src=\"https://colab.research.google.com/assets/colab-badge.svg\" alt=\"Open In Colab\"/></a>"
      ]
    },
    {
      "cell_type": "code",
      "execution_count": 46,
      "metadata": {
        "id": "Kn2gh9Cg6WEx"
      },
      "outputs": [],
      "source": [
        "import torch\n",
        "import torch.nn as nn\n",
        "from torch.optim  import lr_scheduler\n",
        "import numpy as np\n",
        "import torchvision\n",
        "from torchvision import datasets, models,transforms\n",
        "import matplotlib.pyplot  as plt\n",
        "import time\n",
        "import os\n",
        "import copy\n",
        "\n"
      ]
    },
    {
      "cell_type": "code",
      "source": [
        "device = torch.device(\"cuda\" if torch.cuda.is_available() else \"cpu\")"
      ],
      "metadata": {
        "id": "8IL-cZG7AC57"
      },
      "execution_count": 3,
      "outputs": []
    },
    {
      "cell_type": "code",
      "source": [
        "mean=np.array([0.485,0.456,0.406])\n",
        "std=np.array([0.229,0.224,0.225])\n"
      ],
      "metadata": {
        "id": "ex4j5Zy5AMCd"
      },
      "execution_count": 4,
      "outputs": []
    },
    {
      "cell_type": "code",
      "source": [
        "data_transforms={\n",
        "    'train': transforms.Compose([\n",
        "        #why resized crop?\n",
        "        transforms.RandomResizedCrop(224),\n",
        "        transforms.RandomHorizontalFlip(),\n",
        "        transforms.ToTensor(),\n",
        "        transforms.Normalize(mean,std)\n",
        "    ]),\n",
        "    'val': transforms.Compose([\n",
        "        transforms.Resize(256),\n",
        "        transforms.CenterCrop(224),\n",
        "        transforms.ToTensor(),\n",
        "        transforms.Normalize(mean,std)\n",
        "    ])\n",
        "\n",
        "}"
      ],
      "metadata": {
        "id": "SsON_zViAS5R"
      },
      "execution_count": 5,
      "outputs": []
    },
    {
      "cell_type": "code",
      "source": [
        "\n",
        "!rm -r data/val/.ipynb_checkpoints"
      ],
      "metadata": {
        "id": "-qP52fqOJN2I"
      },
      "execution_count": 38,
      "outputs": []
    },
    {
      "cell_type": "code",
      "source": [
        "data_dir = 'data'\n",
        "sets =['train','val']\n"
      ],
      "metadata": {
        "id": "u0ZJ5Lm6BGDo"
      },
      "execution_count": 20,
      "outputs": []
    },
    {
      "cell_type": "code",
      "source": [
        "!ls -a data/train/bees"
      ],
      "metadata": {
        "colab": {
          "base_uri": "https://localhost:8080/"
        },
        "id": "MyS78Wt5Jg9S",
        "outputId": "b7cbdd79-8819-40ea-cb48-d88fe2ad4b50"
      },
      "execution_count": 39,
      "outputs": [
        {
          "output_type": "stream",
          "name": "stdout",
          "text": [
            ".  ..  16838648_415acd9e3f.jpg\t21399619_3e61e5bb6f.jpg\n"
          ]
        }
      ]
    },
    {
      "cell_type": "code",
      "source": [
        "image_datasets={x: datasets.ImageFolder(os.path.join(data_dir,x),\n",
        "                                        data_transforms[x]) for x in ['train', 'val']}"
      ],
      "metadata": {
        "id": "Xh89FOCrBOZh"
      },
      "execution_count": 40,
      "outputs": []
    },
    {
      "cell_type": "code",
      "source": [
        "dataset_sizes = {x: len(image_datasets[x]) for x in ['train', 'val']}\n",
        "class_names = image_datasets['train'].classes"
      ],
      "metadata": {
        "id": "WilDgz21J26a"
      },
      "execution_count": 41,
      "outputs": []
    },
    {
      "cell_type": "code",
      "source": [
        "class_names"
      ],
      "metadata": {
        "colab": {
          "base_uri": "https://localhost:8080/"
        },
        "id": "5DyDz6o0KAlS",
        "outputId": "5c3fb713-9b52-4517-bd93-3865b1c26b88"
      },
      "execution_count": 42,
      "outputs": [
        {
          "output_type": "execute_result",
          "data": {
            "text/plain": [
              "['ants', 'bees']"
            ]
          },
          "metadata": {},
          "execution_count": 42
        }
      ]
    },
    {
      "cell_type": "code",
      "source": [
        "dataloaders = {x: torch.utils.data.DataLoader(image_datasets[x], batch_size=4,\n",
        "                                             shuffle=True, num_workers=0)\n",
        "              for x in ['train', 'val']}"
      ],
      "metadata": {
        "id": "7r9EAfLcQOHb"
      },
      "execution_count": 44,
      "outputs": []
    },
    {
      "cell_type": "code",
      "source": [
        "def imshow(inp, title):\n",
        "    \"\"\"Imshow for Tensor.\"\"\"\n",
        "    inp = inp.numpy().transpose((1, 2, 0))\n",
        "    inp = std * inp + mean\n",
        "    inp = np.clip(inp, 0, 1)\n",
        "    plt.imshow(inp)\n",
        "    plt.title(title)\n",
        "    plt.show()\n",
        "\n",
        "\n",
        "# Get a batch of training data\n",
        "inputs, classes = next(iter(dataloaders['train']))\n",
        "\n",
        "# Make a grid from batch\n",
        "out = torchvision.utils.make_grid(inputs)\n",
        "\n",
        "imshow(out, title=[class_names[x] for x in classes])"
      ],
      "metadata": {
        "colab": {
          "base_uri": "https://localhost:8080/",
          "height": 207
        },
        "id": "24yPn3zrP6pX",
        "outputId": "0cb5a4fa-3881-4172-e980-fbbfa867ebcc"
      },
      "execution_count": 62,
      "outputs": [
        {
          "output_type": "display_data",
          "data": {
            "text/plain": [
              "<Figure size 640x480 with 1 Axes>"
            ],
            "image/png": "[encoded data removed]"
          },
          "metadata": {}
        }
      ]
    },
    {
      "cell_type": "code",
      "source": [
        "torchvision.utils.make_grid(inputs).shape"
      ],
      "metadata": {
        "colab": {
          "base_uri": "https://localhost:8080/"
        },
        "id": "MVd3iP-WQxC9",
        "outputId": "b2e7cdda-6f3d-41ac-f84f-34d2648385e1"
      },
      "execution_count": 57,
      "outputs": [
        {
          "output_type": "execute_result",
          "data": {
            "text/plain": [
              "torch.Size([3, 228, 906])"
            ]
          },
          "metadata": {},
          "execution_count": 57
        }
      ]
    },
    {
      "cell_type": "code",
      "source": [
        "inputs.shape"
      ],
      "metadata": {
        "colab": {
          "base_uri": "https://localhost:8080/"
        },
        "id": "qJdO_irNQiyZ",
        "outputId": "631713ac-659b-4832-e9a4-939ded7f5b25"
      },
      "execution_count": 51,
      "outputs": [
        {
          "output_type": "execute_result",
          "data": {
            "text/plain": [
              "torch.Size([4, 3, 224, 224])"
            ]
          },
          "metadata": {},
          "execution_count": 51
        }
      ]
    },
    {
      "cell_type": "code",
      "source": [
        "torchvision.utils.make_grid(inputs).numpy().transpose((1, 2, 0)).shape"
      ],
      "metadata": {
        "colab": {
          "base_uri": "https://localhost:8080/"
        },
        "id": "SQnc4vh8QmGs",
        "outputId": "4323bca4-cc97-432a-e92c-186897cf4e7b"
      },
      "execution_count": 58,
      "outputs": [
        {
          "output_type": "execute_result",
          "data": {
            "text/plain": [
              "(228, 906, 3)"
            ]
          },
          "metadata": {},
          "execution_count": 58
        }
      ]
    },
    {
      "cell_type": "code",
      "source": [
        "inputs[0].shape"
      ],
      "metadata": {
        "colab": {
          "base_uri": "https://localhost:8080/"
        },
        "id": "VtWETaVOQWRW",
        "outputId": "8ee56a44-b2c9-4dba-8b86-0975ca94a6b8"
      },
      "execution_count": 50,
      "outputs": [
        {
          "output_type": "execute_result",
          "data": {
            "text/plain": [
              "torch.Size([3, 224, 224])"
            ]
          },
          "metadata": {},
          "execution_count": 50
        }
      ]
    },
    {
      "cell_type": "code",
      "source": [
        "def train_model(model, criterion, optimizer, scheduler, num_epochs=25):\n",
        "    since = time.time()\n",
        "\n",
        "    best_model_wts = copy.deepcopy(model.state_dict())\n",
        "    best_acc = 0.0\n",
        "\n",
        "    for epoch in range(num_epochs):\n",
        "        print('Epoch {}/{}'.format(epoch, num_epochs - 1))\n",
        "        print('-' * 10)\n",
        "\n",
        "        # Each epoch has a training and validation phase\n",
        "        for phase in ['train', 'val']:\n",
        "            if phase == 'train':\n",
        "                model.train()  # Set model to training mode\n",
        "            else:\n",
        "                model.eval()   # Set model to evaluate mode\n",
        "\n",
        "            running_loss = 0.0\n",
        "            running_corrects = 0\n",
        "\n",
        "            # Iterate over data.\n",
        "            for inputs, labels in dataloaders[phase]:\n",
        "                inputs = inputs.to(device)\n",
        "                labels = labels.to(device)\n",
        "\n",
        "                # forward\n",
        "                # track history if only in train\n",
        "                with torch.set_grad_enabled(phase == 'train'):\n",
        "                    outputs = model(inputs)\n",
        "                    _, preds = torch.max(outputs, 1)\n",
        "                    loss = criterion(outputs, labels)\n",
        "\n",
        "                    # backward + optimize only if in training phase\n",
        "                    if phase == 'train':\n",
        "                        optimizer.zero_grad()\n",
        "                        loss.backward()\n",
        "                        optimizer.step()\n",
        "\n",
        "                # statistics\n",
        "                running_loss += loss.item() * inputs.size(0)\n",
        "                running_corrects += torch.sum(preds == labels.data)\n",
        "\n",
        "            if phase == 'train':\n",
        "                scheduler.step()\n",
        "\n",
        "            epoch_loss = running_loss / dataset_sizes[phase]\n",
        "            epoch_acc = running_corrects.double() / dataset_sizes[phase]\n",
        "\n",
        "            print('{} Loss: {:.4f} Acc: {:.4f}'.format(\n",
        "                phase, epoch_loss, epoch_acc))\n",
        "\n",
        "            # deep copy the model\n",
        "            if phase == 'val' and epoch_acc > best_acc:\n",
        "                best_acc = epoch_acc\n",
        "                best_model_wts = copy.deepcopy(model.state_dict())\n",
        "\n",
        "        print()\n",
        "\n",
        "    time_elapsed = time.time() - since\n",
        "    print('Training complete in {:.0f}m {:.0f}s'.format(\n",
        "        time_elapsed // 60, time_elapsed % 60))\n",
        "    print('Best val Acc: {:4f}'.format(best_acc))\n",
        "\n",
        "    # load best model weights\n",
        "    model.load_state_dict(best_model_wts)\n",
        "    return model"
      ],
      "metadata": {
        "id": "-68ikqDDR-1B"
      },
      "execution_count": 63,
      "outputs": []
    },
    {
      "cell_type": "code",
      "source": [
        "model=models.resnet18(pretrained=True)"
      ],
      "metadata": {
        "colab": {
          "base_uri": "https://localhost:8080/"
        },
        "id": "2o8r0w8lB2kP",
        "outputId": "da1a36fd-5a55-47fc-8b3b-d0be764e46fa"
      },
      "execution_count": 64,
      "outputs": [
        {
          "output_type": "stream",
          "name": "stderr",
          "text": [
            "/usr/local/lib/python3.10/dist-packages/torchvision/models/_utils.py:208: UserWarning: The parameter 'pretrained' is deprecated since 0.13 and may be removed in the future, please use 'weights' instead.\n",
            "  warnings.warn(\n",
            "/usr/local/lib/python3.10/dist-packages/torchvision/models/_utils.py:223: UserWarning: Arguments other than a weight enum or `None` for 'weights' are deprecated since 0.13 and may be removed in the future. The current behavior is equivalent to passing `weights=ResNet18_Weights.IMAGENET1K_V1`. You can also use `weights=ResNet18_Weights.DEFAULT` to get the most up-to-date weights.\n",
            "  warnings.warn(msg)\n"
          ]
        }
      ]
    },
    {
      "cell_type": "code",
      "source": [
        "model"
      ],
      "metadata": {
        "colab": {
          "base_uri": "https://localhost:8080/"
        },
        "id": "QqANmodYEDpr",
        "outputId": "fc78a3d7-d46a-49c2-f522-d10804b15d19"
      },
      "execution_count": 18,
      "outputs": [
        {
          "output_type": "execute_result",
          "data": {
            "text/plain": [
              "ResNet(\n",
              "  (conv1): Conv2d(3, 64, kernel_size=(7, 7), stride=(2, 2), padding=(3, 3), bias=False)\n",
              "  (bn1): BatchNorm2d(64, eps=1e-05, momentum=0.1, affine=True, track_running_stats=True)\n",
              "  (relu): ReLU(inplace=True)\n",
              "  (maxpool): MaxPool2d(kernel_size=3, stride=2, padding=1, dilation=1, ceil_mode=False)\n",
              "  (layer1): Sequential(\n",
              "    (0): BasicBlock(\n",
              "      (conv1): Conv2d(64, 64, kernel_size=(3, 3), stride=(1, 1), padding=(1, 1), bias=False)\n",
              "      (bn1): BatchNorm2d(64, eps=1e-05, momentum=0.1, affine=True, track_running_stats=True)\n",
              "      (relu): ReLU(inplace=True)\n",
              "      (conv2): Conv2d(64, 64, kernel_size=(3, 3), stride=(1, 1), padding=(1, 1), bias=False)\n",
              "      (bn2): BatchNorm2d(64, eps=1e-05, momentum=0.1, affine=True, track_running_stats=True)\n",
              "    )\n",
              "    (1): BasicBlock(\n",
              "      (conv1): Conv2d(64, 64, kernel_size=(3, 3), stride=(1, 1), padding=(1, 1), bias=False)\n",
              "      (bn1): BatchNorm2d(64, eps=1e-05, momentum=0.1, affine=True, track_running_stats=True)\n",
              "      (relu): ReLU(inplace=True)\n",
              "      (conv2): Conv2d(64, 64, kernel_size=(3, 3), stride=(1, 1), padding=(1, 1), bias=False)\n",
              "      (bn2): BatchNorm2d(64, eps=1e-05, momentum=0.1, affine=True, track_running_stats=True)\n",
              "    )\n",
              "  )\n",
              "  (layer2): Sequential(\n",
              "    (0): BasicBlock(\n",
              "      (conv1): Conv2d(64, 128, kernel_size=(3, 3), stride=(2, 2), padding=(1, 1), bias=False)\n",
              "      (bn1): BatchNorm2d(128, eps=1e-05, momentum=0.1, affine=True, track_running_stats=True)\n",
              "      (relu): ReLU(inplace=True)\n",
              "      (conv2): Conv2d(128, 128, kernel_size=(3, 3), stride=(1, 1), padding=(1, 1), bias=False)\n",
              "      (bn2): BatchNorm2d(128, eps=1e-05, momentum=0.1, affine=True, track_running_stats=True)\n",
              "      (downsample): Sequential(\n",
              "        (0): Conv2d(64, 128, kernel_size=(1, 1), stride=(2, 2), bias=False)\n",
              "        (1): BatchNorm2d(128, eps=1e-05, momentum=0.1, affine=True, track_running_stats=True)\n",
              "      )\n",
              "    )\n",
              "    (1): BasicBlock(\n",
              "      (conv1): Conv2d(128, 128, kernel_size=(3, 3), stride=(1, 1), padding=(1, 1), bias=False)\n",
              "      (bn1): BatchNorm2d(128, eps=1e-05, momentum=0.1, affine=True, track_running_stats=True)\n",
              "      (relu): ReLU(inplace=True)\n",
              "      (conv2): Conv2d(128, 128, kernel_size=(3, 3), stride=(1, 1), padding=(1, 1), bias=False)\n",
              "      (bn2): BatchNorm2d(128, eps=1e-05, momentum=0.1, affine=True, track_running_stats=True)\n",
              "    )\n",
              "  )\n",
              "  (layer3): Sequential(\n",
              "    (0): BasicBlock(\n",
              "      (conv1): Conv2d(128, 256, kernel_size=(3, 3), stride=(2, 2), padding=(1, 1), bias=False)\n",
              "      (bn1): BatchNorm2d(256, eps=1e-05, momentum=0.1, affine=True, track_running_stats=True)\n",
              "      (relu): ReLU(inplace=True)\n",
              "      (conv2): Conv2d(256, 256, kernel_size=(3, 3), stride=(1, 1), padding=(1, 1), bias=False)\n",
              "      (bn2): BatchNorm2d(256, eps=1e-05, momentum=0.1, affine=True, track_running_stats=True)\n",
              "      (downsample): Sequential(\n",
              "        (0): Conv2d(128, 256, kernel_size=(1, 1), stride=(2, 2), bias=False)\n",
              "        (1): BatchNorm2d(256, eps=1e-05, momentum=0.1, affine=True, track_running_stats=True)\n",
              "      )\n",
              "    )\n",
              "    (1): BasicBlock(\n",
              "      (conv1): Conv2d(256, 256, kernel_size=(3, 3), stride=(1, 1), padding=(1, 1), bias=False)\n",
              "      (bn1): BatchNorm2d(256, eps=1e-05, momentum=0.1, affine=True, track_running_stats=True)\n",
              "      (relu): ReLU(inplace=True)\n",
              "      (conv2): Conv2d(256, 256, kernel_size=(3, 3), stride=(1, 1), padding=(1, 1), bias=False)\n",
              "      (bn2): BatchNorm2d(256, eps=1e-05, momentum=0.1, affine=True, track_running_stats=True)\n",
              "    )\n",
              "  )\n",
              "  (layer4): Sequential(\n",
              "    (0): BasicBlock(\n",
              "      (conv1): Conv2d(256, 512, kernel_size=(3, 3), stride=(2, 2), padding=(1, 1), bias=False)\n",
              "      (bn1): BatchNorm2d(512, eps=1e-05, momentum=0.1, affine=True, track_running_stats=True)\n",
              "      (relu): ReLU(inplace=True)\n",
              "      (conv2): Conv2d(512, 512, kernel_size=(3, 3), stride=(1, 1), padding=(1, 1), bias=False)\n",
              "      (bn2): BatchNorm2d(512, eps=1e-05, momentum=0.1, affine=True, track_running_stats=True)\n",
              "      (downsample): Sequential(\n",
              "        (0): Conv2d(256, 512, kernel_size=(1, 1), stride=(2, 2), bias=False)\n",
              "        (1): BatchNorm2d(512, eps=1e-05, momentum=0.1, affine=True, track_running_stats=True)\n",
              "      )\n",
              "    )\n",
              "    (1): BasicBlock(\n",
              "      (conv1): Conv2d(512, 512, kernel_size=(3, 3), stride=(1, 1), padding=(1, 1), bias=False)\n",
              "      (bn1): BatchNorm2d(512, eps=1e-05, momentum=0.1, affine=True, track_running_stats=True)\n",
              "      (relu): ReLU(inplace=True)\n",
              "      (conv2): Conv2d(512, 512, kernel_size=(3, 3), stride=(1, 1), padding=(1, 1), bias=False)\n",
              "      (bn2): BatchNorm2d(512, eps=1e-05, momentum=0.1, affine=True, track_running_stats=True)\n",
              "    )\n",
              "  )\n",
              "  (avgpool): AdaptiveAvgPool2d(output_size=(1, 1))\n",
              "  (fc): Linear(in_features=512, out_features=1000, bias=True)\n",
              ")"
            ]
          },
          "metadata": {},
          "execution_count": 18
        }
      ]
    },
    {
      "cell_type": "code",
      "source": [
        "num_ftrs=model.fc.in_features"
      ],
      "metadata": {
        "id": "NhWbsLYoDbzy"
      },
      "execution_count": 65,
      "outputs": []
    },
    {
      "cell_type": "code",
      "source": [
        "model.fc = nn.Linear(num_ftrs,2)"
      ],
      "metadata": {
        "id": "cX4cjcI8DjMh"
      },
      "execution_count": 67,
      "outputs": []
    },
    {
      "cell_type": "code",
      "source": [],
      "metadata": {
        "id": "Noq73y7kEB-9"
      },
      "execution_count": null,
      "outputs": []
    },
    {
      "cell_type": "code",
      "source": [
        "model.to(device)"
      ],
      "metadata": {
        "colab": {
          "base_uri": "https://localhost:8080/"
        },
        "id": "X0WeymwpDths",
        "outputId": "e17a33e3-4979-45c7-e00e-7864538c84dc"
      },
      "execution_count": 68,
      "outputs": [
        {
          "output_type": "execute_result",
          "data": {
            "text/plain": [
              "ResNet(\n",
              "  (conv1): Conv2d(3, 64, kernel_size=(7, 7), stride=(2, 2), padding=(3, 3), bias=False)\n",
              "  (bn1): BatchNorm2d(64, eps=1e-05, momentum=0.1, affine=True, track_running_stats=True)\n",
              "  (relu): ReLU(inplace=True)\n",
              "  (maxpool): MaxPool2d(kernel_size=3, stride=2, padding=1, dilation=1, ceil_mode=False)\n",
              "  (layer1): Sequential(\n",
              "    (0): BasicBlock(\n",
              "      (conv1): Conv2d(64, 64, kernel_size=(3, 3), stride=(1, 1), padding=(1, 1), bias=False)\n",
              "      (bn1): BatchNorm2d(64, eps=1e-05, momentum=0.1, affine=True, track_running_stats=True)\n",
              "      (relu): ReLU(inplace=True)\n",
              "      (conv2): Conv2d(64, 64, kernel_size=(3, 3), stride=(1, 1), padding=(1, 1), bias=False)\n",
              "      (bn2): BatchNorm2d(64, eps=1e-05, momentum=0.1, affine=True, track_running_stats=True)\n",
              "    )\n",
              "    (1): BasicBlock(\n",
              "      (conv1): Conv2d(64, 64, kernel_size=(3, 3), stride=(1, 1), padding=(1, 1), bias=False)\n",
              "      (bn1): BatchNorm2d(64, eps=1e-05, momentum=0.1, affine=True, track_running_stats=True)\n",
              "      (relu): ReLU(inplace=True)\n",
              "      (conv2): Conv2d(64, 64, kernel_size=(3, 3), stride=(1, 1), padding=(1, 1), bias=False)\n",
              "      (bn2): BatchNorm2d(64, eps=1e-05, momentum=0.1, affine=True, track_running_stats=True)\n",
              "    )\n",
              "  )\n",
              "  (layer2): Sequential(\n",
              "    (0): BasicBlock(\n",
              "      (conv1): Conv2d(64, 128, kernel_size=(3, 3), stride=(2, 2), padding=(1, 1), bias=False)\n",
              "      (bn1): BatchNorm2d(128, eps=1e-05, momentum=0.1, affine=True, track_running_stats=True)\n",
              "      (relu): ReLU(inplace=True)\n",
              "      (conv2): Conv2d(128, 128, kernel_size=(3, 3), stride=(1, 1), padding=(1, 1), bias=False)\n",
              "      (bn2): BatchNorm2d(128, eps=1e-05, momentum=0.1, affine=True, track_running_stats=True)\n",
              "      (downsample): Sequential(\n",
              "        (0): Conv2d(64, 128, kernel_size=(1, 1), stride=(2, 2), bias=False)\n",
              "        (1): BatchNorm2d(128, eps=1e-05, momentum=0.1, affine=True, track_running_stats=True)\n",
              "      )\n",
              "    )\n",
              "    (1): BasicBlock(\n",
              "      (conv1): Conv2d(128, 128, kernel_size=(3, 3), stride=(1, 1), padding=(1, 1), bias=False)\n",
              "      (bn1): BatchNorm2d(128, eps=1e-05, momentum=0.1, affine=True, track_running_stats=True)\n",
              "      (relu): ReLU(inplace=True)\n",
              "      (conv2): Conv2d(128, 128, kernel_size=(3, 3), stride=(1, 1), padding=(1, 1), bias=False)\n",
              "      (bn2): BatchNorm2d(128, eps=1e-05, momentum=0.1, affine=True, track_running_stats=True)\n",
              "    )\n",
              "  )\n",
              "  (layer3): Sequential(\n",
              "    (0): BasicBlock(\n",
              "      (conv1): Conv2d(128, 256, kernel_size=(3, 3), stride=(2, 2), padding=(1, 1), bias=False)\n",
              "      (bn1): BatchNorm2d(256, eps=1e-05, momentum=0.1, affine=True, track_running_stats=True)\n",
              "      (relu): ReLU(inplace=True)\n",
              "      (conv2): Conv2d(256, 256, kernel_size=(3, 3), stride=(1, 1), padding=(1, 1), bias=False)\n",
              "      (bn2): BatchNorm2d(256, eps=1e-05, momentum=0.1, affine=True, track_running_stats=True)\n",
              "      (downsample): Sequential(\n",
              "        (0): Conv2d(128, 256, kernel_size=(1, 1), stride=(2, 2), bias=False)\n",
              "        (1): BatchNorm2d(256, eps=1e-05, momentum=0.1, affine=True, track_running_stats=True)\n",
              "      )\n",
              "    )\n",
              "    (1): BasicBlock(\n",
              "      (conv1): Conv2d(256, 256, kernel_size=(3, 3), stride=(1, 1), padding=(1, 1), bias=False)\n",
              "      (bn1): BatchNorm2d(256, eps=1e-05, momentum=0.1, affine=True, track_running_stats=True)\n",
              "      (relu): ReLU(inplace=True)\n",
              "      (conv2): Conv2d(256, 256, kernel_size=(3, 3), stride=(1, 1), padding=(1, 1), bias=False)\n",
              "      (bn2): BatchNorm2d(256, eps=1e-05, momentum=0.1, affine=True, track_running_stats=True)\n",
              "    )\n",
              "  )\n",
              "  (layer4): Sequential(\n",
              "    (0): BasicBlock(\n",
              "      (conv1): Conv2d(256, 512, kernel_size=(3, 3), stride=(2, 2), padding=(1, 1), bias=False)\n",
              "      (bn1): BatchNorm2d(512, eps=1e-05, momentum=0.1, affine=True, track_running_stats=True)\n",
              "      (relu): ReLU(inplace=True)\n",
              "      (conv2): Conv2d(512, 512, kernel_size=(3, 3), stride=(1, 1), padding=(1, 1), bias=False)\n",
              "      (bn2): BatchNorm2d(512, eps=1e-05, momentum=0.1, affine=True, track_running_stats=True)\n",
              "      (downsample): Sequential(\n",
              "        (0): Conv2d(256, 512, kernel_size=(1, 1), stride=(2, 2), bias=False)\n",
              "        (1): BatchNorm2d(512, eps=1e-05, momentum=0.1, affine=True, track_running_stats=True)\n",
              "      )\n",
              "    )\n",
              "    (1): BasicBlock(\n",
              "      (conv1): Conv2d(512, 512, kernel_size=(3, 3), stride=(1, 1), padding=(1, 1), bias=False)\n",
              "      (bn1): BatchNorm2d(512, eps=1e-05, momentum=0.1, affine=True, track_running_stats=True)\n",
              "      (relu): ReLU(inplace=True)\n",
              "      (conv2): Conv2d(512, 512, kernel_size=(3, 3), stride=(1, 1), padding=(1, 1), bias=False)\n",
              "      (bn2): BatchNorm2d(512, eps=1e-05, momentum=0.1, affine=True, track_running_stats=True)\n",
              "    )\n",
              "  )\n",
              "  (avgpool): AdaptiveAvgPool2d(output_size=(1, 1))\n",
              "  (fc): Linear(in_features=512, out_features=2, bias=True)\n",
              ")"
            ]
          },
          "metadata": {},
          "execution_count": 68
        }
      ]
    },
    {
      "cell_type": "code",
      "source": [
        "criterion = nn.CrossEntropyLoss()"
      ],
      "metadata": {
        "id": "ouz5eOnOSKv4"
      },
      "execution_count": 69,
      "outputs": []
    },
    {
      "cell_type": "code",
      "source": [
        "from torch import optim\n",
        "optimizer = optim.SGD(model.parameters(), lr=0.001)\n"
      ],
      "metadata": {
        "id": "JZd3ladESNCG"
      },
      "execution_count": 70,
      "outputs": []
    },
    {
      "cell_type": "code",
      "source": [
        "step_lr_scheduler=lr_scheduler.StepLR(optimizer,step_size=7,gamma=0.1)"
      ],
      "metadata": {
        "id": "eXikBTd0D5QE"
      },
      "execution_count": 71,
      "outputs": []
    },
    {
      "cell_type": "code",
      "source": [
        "model = train_model(model, criterion, optimizer, step_lr_scheduler, num_epochs=25)"
      ],
      "metadata": {
        "colab": {
          "base_uri": "https://localhost:8080/"
        },
        "id": "Vxr9faybDvYn",
        "outputId": "4c959a77-072f-4621-ab2e-aa401fc2cc70"
      },
      "execution_count": 72,
      "outputs": [
        {
          "output_type": "stream",
          "name": "stdout",
          "text": [
            "Epoch 0/24\n",
            "----------\n",
            "train Loss: 0.6569 Acc: 0.7500\n",
            "val Loss: 0.8298 Acc: 0.2500\n",
            "\n",
            "Epoch 1/24\n",
            "----------\n",
            "train Loss: 0.6705 Acc: 0.7500\n",
            "val Loss: 0.8189 Acc: 0.2500\n",
            "\n",
            "Epoch 2/24\n",
            "----------\n",
            "train Loss: 0.6920 Acc: 0.5000\n",
            "val Loss: 0.8101 Acc: 0.2500\n",
            "\n",
            "Epoch 3/24\n",
            "----------\n",
            "train Loss: 0.5510 Acc: 1.0000\n",
            "val Loss: 0.7849 Acc: 0.2500\n",
            "\n",
            "Epoch 4/24\n",
            "----------\n",
            "train Loss: 0.5915 Acc: 1.0000\n",
            "val Loss: 0.7747 Acc: 0.2500\n",
            "\n",
            "Epoch 5/24\n",
            "----------\n",
            "train Loss: 0.5539 Acc: 0.7500\n",
            "val Loss: 0.7824 Acc: 0.2500\n",
            "\n",
            "Epoch 6/24\n",
            "----------\n",
            "train Loss: 0.5711 Acc: 1.0000\n",
            "val Loss: 0.7782 Acc: 0.5000\n",
            "\n",
            "Epoch 7/24\n",
            "----------\n",
            "train Loss: 0.4756 Acc: 1.0000\n",
            "val Loss: 0.7807 Acc: 0.5000\n",
            "\n",
            "Epoch 8/24\n",
            "----------\n",
            "train Loss: 0.4673 Acc: 1.0000\n",
            "val Loss: 0.7694 Acc: 0.5000\n",
            "\n",
            "Epoch 9/24\n",
            "----------\n",
            "train Loss: 0.4600 Acc: 1.0000\n",
            "val Loss: 0.7608 Acc: 0.5000\n",
            "\n",
            "Epoch 10/24\n",
            "----------\n",
            "train Loss: 0.4645 Acc: 1.0000\n",
            "val Loss: 0.7657 Acc: 0.5000\n",
            "\n",
            "Epoch 11/24\n",
            "----------\n",
            "train Loss: 0.5598 Acc: 0.7500\n",
            "val Loss: 0.7545 Acc: 0.5000\n",
            "\n",
            "Epoch 12/24\n",
            "----------\n",
            "train Loss: 0.4427 Acc: 1.0000\n",
            "val Loss: 0.7521 Acc: 0.5000\n",
            "\n",
            "Epoch 13/24\n",
            "----------\n",
            "train Loss: 0.4872 Acc: 1.0000\n",
            "val Loss: 0.7599 Acc: 0.5000\n",
            "\n",
            "Epoch 14/24\n",
            "----------\n",
            "train Loss: 0.6168 Acc: 0.5000\n",
            "val Loss: 0.7646 Acc: 0.5000\n",
            "\n",
            "Epoch 15/24\n",
            "----------\n",
            "train Loss: 0.3336 Acc: 1.0000\n",
            "val Loss: 0.7580 Acc: 0.5000\n",
            "\n",
            "Epoch 16/24\n",
            "----------\n",
            "train Loss: 0.4030 Acc: 1.0000\n",
            "val Loss: 0.7557 Acc: 0.5000\n",
            "\n",
            "Epoch 17/24\n",
            "----------\n",
            "train Loss: 0.3790 Acc: 1.0000\n",
            "val Loss: 0.7583 Acc: 0.5000\n",
            "\n",
            "Epoch 18/24\n",
            "----------\n",
            "train Loss: 0.4397 Acc: 1.0000\n",
            "val Loss: 0.7434 Acc: 0.5000\n",
            "\n",
            "Epoch 19/24\n",
            "----------\n",
            "train Loss: 0.5034 Acc: 1.0000\n",
            "val Loss: 0.7404 Acc: 0.5000\n",
            "\n",
            "Epoch 20/24\n",
            "----------\n",
            "train Loss: 0.5071 Acc: 0.7500\n",
            "val Loss: 0.7331 Acc: 0.5000\n",
            "\n",
            "Epoch 21/24\n",
            "----------\n",
            "train Loss: 0.5638 Acc: 0.5000\n",
            "val Loss: 0.7296 Acc: 0.5000\n",
            "\n",
            "Epoch 22/24\n",
            "----------\n",
            "train Loss: 0.3541 Acc: 1.0000\n",
            "val Loss: 0.7259 Acc: 0.5000\n",
            "\n",
            "Epoch 23/24\n",
            "----------\n",
            "train Loss: 0.3621 Acc: 1.0000\n",
            "val Loss: 0.7280 Acc: 0.5000\n",
            "\n",
            "Epoch 24/24\n",
            "----------\n",
            "train Loss: 0.3903 Acc: 1.0000\n",
            "val Loss: 0.7354 Acc: 0.5000\n",
            "\n",
            "Training complete in 0m 35s\n",
            "Best val Acc: 0.500000\n"
          ]
        }
      ]
    },
    {
      "cell_type": "code",
      "source": [
        "model.layer4[0].conv2.weight"
      ],
      "metadata": {
        "colab": {
          "base_uri": "https://localhost:8080/"
        },
        "id": "mTVxVpSTD3D5",
        "outputId": "a8af48a6-9d0c-4625-a135-aae9e06ccfce"
      },
      "execution_count": 79,
      "outputs": [
        {
          "output_type": "execute_result",
          "data": {
            "text/plain": [
              "Parameter containing:\n",
              "tensor([[[[ 1.6042e-04, -1.4721e-02, -1.6999e-02],\n",
              "          [-1.2852e-02, -3.3086e-02, -3.6652e-02],\n",
              "          [ 2.7788e-02,  1.7673e-02, -1.8370e-02]],\n",
              "\n",
              "         [[ 1.0534e-02,  3.1365e-02,  2.4778e-02],\n",
              "          [-1.2696e-02, -2.9478e-02, -1.1840e-02],\n",
              "          [-9.4161e-03, -8.9542e-03, -3.1352e-02]],\n",
              "\n",
              "         [[-7.8273e-03, -2.9236e-02,  5.3681e-03],\n",
              "          [-1.3786e-02, -1.1124e-02,  5.0303e-03],\n",
              "          [-2.4923e-03,  7.3450e-03,  5.4004e-03]],\n",
              "\n",
              "         ...,\n",
              "\n",
              "         [[-1.0415e-03, -1.0282e-02, -2.9994e-02],\n",
              "          [-3.8490e-03,  1.9380e-03, -1.6306e-02],\n",
              "          [-1.8111e-03,  8.3748e-03, -8.5526e-03]],\n",
              "\n",
              "         [[-1.8195e-02, -1.3537e-02, -1.7468e-02],\n",
              "          [ 2.2467e-02,  5.7411e-02,  1.9319e-02],\n",
              "          [-2.4977e-02, -3.2109e-02, -8.1729e-03]],\n",
              "\n",
              "         [[ 3.6619e-03,  4.9379e-03, -5.7606e-03],\n",
              "          [-1.6888e-02,  1.3550e-04,  3.6882e-04],\n",
              "          [-2.6444e-03,  1.0763e-03,  1.1091e-03]]],\n",
              "\n",
              "\n",
              "        [[[ 1.4016e-02,  3.9185e-03, -1.7225e-03],\n",
              "          [-1.3225e-03,  4.3450e-04, -1.1797e-02],\n",
              "          [-9.8046e-03, -1.7693e-02, -1.9908e-02]],\n",
              "\n",
              "         [[-1.4955e-02, -1.9798e-02, -2.8724e-02],\n",
              "          [ 5.8879e-03, -1.5231e-02, -5.6718e-03],\n",
              "          [ 2.9247e-03, -1.8029e-02, -7.1429e-03]],\n",
              "\n",
              "         [[-1.1626e-02, -3.3806e-02, -1.0028e-02],\n",
              "          [-1.6611e-02, -5.5717e-02, -2.3206e-02],\n",
              "          [-2.5759e-02, -4.3133e-02, -2.5900e-02]],\n",
              "\n",
              "         ...,\n",
              "\n",
              "         [[-1.5006e-02, -1.4332e-02, -2.5931e-03],\n",
              "          [-2.3080e-02, -1.5820e-02, -2.2833e-03],\n",
              "          [-4.1328e-03, -8.0346e-03, -2.3247e-03]],\n",
              "\n",
              "         [[-1.8531e-02, -1.8005e-02, -2.8084e-02],\n",
              "          [-3.6680e-02, -6.8640e-02, -5.2470e-02],\n",
              "          [-1.1710e-02, -2.4333e-02, -1.6732e-02]],\n",
              "\n",
              "         [[-2.2075e-02, -2.9158e-02, -3.8654e-03],\n",
              "          [-7.0272e-03,  1.6719e-02,  5.4381e-03],\n",
              "          [-1.3130e-02,  1.2002e-02, -1.7479e-02]]],\n",
              "\n",
              "\n",
              "        [[[-5.2346e-03, -3.4849e-03, -2.0763e-03],\n",
              "          [ 1.5303e-02, -2.1755e-02, -8.7652e-03],\n",
              "          [ 2.2454e-02,  9.9146e-03, -3.3659e-03]],\n",
              "\n",
              "         [[ 7.4665e-03, -9.1766e-03, -9.7413e-05],\n",
              "          [ 1.8885e-04,  1.2247e-03, -8.9953e-03],\n",
              "          [-5.1399e-04,  2.1999e-04, -4.8797e-03]],\n",
              "\n",
              "         [[ 1.7077e-02,  3.3948e-03,  9.3493e-03],\n",
              "          [ 2.0333e-02, -1.1001e-04, -8.3595e-05],\n",
              "          [ 1.0704e-02, -1.8388e-03,  1.0831e-02]],\n",
              "\n",
              "         ...,\n",
              "\n",
              "         [[ 3.2000e-02,  2.3490e-02,  2.5384e-02],\n",
              "          [ 1.9311e-02,  2.3922e-02,  2.8971e-02],\n",
              "          [ 9.9030e-03,  2.0164e-02,  2.2660e-02]],\n",
              "\n",
              "         [[-9.8404e-03, -1.1119e-02, -3.7692e-03],\n",
              "          [-2.9504e-02, -3.6954e-02, -1.8229e-02],\n",
              "          [-1.3653e-03, -2.5820e-03,  1.0352e-02]],\n",
              "\n",
              "         [[-7.3922e-03, -2.5416e-02, -2.1942e-02],\n",
              "          [-1.6703e-02, -1.5139e-02, -1.3036e-02],\n",
              "          [-2.0096e-02,  3.7916e-03, -1.0345e-02]]],\n",
              "\n",
              "\n",
              "        ...,\n",
              "\n",
              "\n",
              "        [[[-1.6164e-02, -1.6887e-02, -2.8276e-04],\n",
              "          [-7.7844e-03, -2.4494e-03, -1.4642e-02],\n",
              "          [ 2.4633e-02,  3.9861e-02,  2.1048e-02]],\n",
              "\n",
              "         [[ 2.4478e-03, -9.3900e-03, -1.1785e-02],\n",
              "          [ 2.5305e-02,  2.5503e-04,  7.1275e-03],\n",
              "          [ 2.2345e-02,  1.9047e-02,  7.2505e-03]],\n",
              "\n",
              "         [[-1.4652e-02, -2.7801e-02, -4.3551e-03],\n",
              "          [-1.7963e-02, -4.3845e-02,  2.7418e-03],\n",
              "          [-4.7984e-03, -8.4186e-03,  1.2075e-02]],\n",
              "\n",
              "         ...,\n",
              "\n",
              "         [[-2.0167e-02, -3.3541e-02, -1.6721e-02],\n",
              "          [-1.7838e-02, -5.1709e-02, -2.6778e-02],\n",
              "          [-1.3098e-03, -4.3177e-03, -9.6367e-03]],\n",
              "\n",
              "         [[-5.3932e-03, -2.0577e-04,  2.7800e-03],\n",
              "          [-9.6816e-04, -2.5139e-02,  1.4805e-02],\n",
              "          [ 2.8746e-02,  9.0867e-03,  4.2550e-02]],\n",
              "\n",
              "         [[-1.5699e-02, -1.9302e-02, -9.1462e-03],\n",
              "          [-2.0025e-02, -1.1136e-02, -3.3901e-02],\n",
              "          [-5.7512e-03, -7.3752e-03, -1.0050e-02]]],\n",
              "\n",
              "\n",
              "        [[[-8.8627e-03, -4.5366e-03, -1.2350e-02],\n",
              "          [-5.9467e-03, -1.7067e-02, -2.8053e-02],\n",
              "          [-1.0475e-02,  7.5182e-04, -1.0591e-02]],\n",
              "\n",
              "         [[ 9.5012e-03, -5.2206e-03,  1.2929e-02],\n",
              "          [ 4.4340e-03, -2.3994e-02, -8.4030e-04],\n",
              "          [ 4.6716e-03,  9.6940e-03,  8.2186e-03]],\n",
              "\n",
              "         [[ 5.1543e-03,  4.5544e-04, -7.9903e-03],\n",
              "          [ 3.3202e-03,  1.4458e-02,  8.9317e-03],\n",
              "          [ 6.3600e-03,  1.9063e-02,  1.9037e-02]],\n",
              "\n",
              "         ...,\n",
              "\n",
              "         [[ 7.7014e-03, -1.3773e-02,  6.0544e-03],\n",
              "          [-1.5671e-03, -2.3387e-02, -1.0045e-02],\n",
              "          [ 9.5253e-03, -1.2240e-02,  2.2579e-03]],\n",
              "\n",
              "         [[ 1.0374e-02,  3.5933e-03, -5.7447e-04],\n",
              "          [ 7.0401e-03, -1.0670e-02, -4.9024e-03],\n",
              "          [-2.5896e-03,  1.1325e-02,  7.0867e-03]],\n",
              "\n",
              "         [[-1.7511e-02, -2.3190e-02, -1.7908e-02],\n",
              "          [-1.7702e-03,  1.9685e-03, -7.3270e-03],\n",
              "          [-6.6849e-03,  9.8317e-03,  2.0662e-03]]],\n",
              "\n",
              "\n",
              "        [[[ 2.8371e-02, -8.1972e-03,  1.8005e-02],\n",
              "          [ 1.5828e-02, -1.3571e-02, -1.9339e-02],\n",
              "          [ 4.0628e-03, -1.5721e-02, -5.0620e-02]],\n",
              "\n",
              "         [[-5.5379e-03, -1.9006e-02, -7.9320e-03],\n",
              "          [ 1.3960e-03, -4.9594e-02,  1.7419e-03],\n",
              "          [ 7.6787e-03, -7.6034e-03,  1.2554e-02]],\n",
              "\n",
              "         [[ 1.8026e-02,  3.1671e-02,  4.2299e-03],\n",
              "          [-3.6921e-03,  3.0314e-03, -1.2266e-02],\n",
              "          [-8.9453e-03, -1.6616e-02,  1.6363e-03]],\n",
              "\n",
              "         ...,\n",
              "\n",
              "         [[ 5.2987e-03,  1.8172e-02,  1.8078e-02],\n",
              "          [-6.1288e-03,  1.5798e-03,  2.0252e-02],\n",
              "          [-1.1485e-02, -1.5713e-02,  9.0719e-03]],\n",
              "\n",
              "         [[ 3.7567e-03,  8.0418e-03,  1.8275e-02],\n",
              "          [ 1.7259e-02,  6.9623e-03,  1.8730e-02],\n",
              "          [ 1.0749e-02,  1.3666e-02, -1.0188e-03]],\n",
              "\n",
              "         [[ 1.9753e-02, -1.4542e-02, -2.4649e-02],\n",
              "          [ 2.6216e-03, -2.4789e-02,  9.4081e-03],\n",
              "          [-1.2588e-03,  1.4186e-03,  1.3447e-02]]]], requires_grad=True)"
            ]
          },
          "metadata": {},
          "execution_count": 79
        }
      ]
    },
    {
      "cell_type": "code",
      "source": [
        "model_conv = torchvision.models.resnet18(pretrained=True)\n",
        "for param in model_conv.parameters():\n",
        "    param.requires_grad = False\n",
        "\n",
        "# Parameters of newly constructed modules have requires_grad=True by default\n",
        "num_ftrs = model_conv.fc.in_features\n",
        "model_conv.fc = nn.Linear(num_ftrs, 2)\n",
        "\n",
        "model_conv = model_conv.to(device)\n",
        "\n",
        "criterion = nn.CrossEntropyLoss()\n",
        "\n",
        "# Observe that only parameters of final layer are being optimized as\n",
        "# opposed to before.\n",
        "optimizer_conv = optim.SGD(model_conv.fc.parameters(), lr=0.001, momentum=0.9)\n",
        "\n",
        "# Decay LR by a factor of 0.1 every 7 epochs\n",
        "exp_lr_scheduler = lr_scheduler.StepLR(optimizer_conv, step_size=7, gamma=0.1)\n"
      ],
      "metadata": {
        "id": "afSfPSJPEofk"
      },
      "execution_count": 84,
      "outputs": []
    },
    {
      "cell_type": "code",
      "source": [
        "model_conv.layer4[0].conv2.weight[0]"
      ],
      "metadata": {
        "colab": {
          "base_uri": "https://localhost:8080/"
        },
        "id": "VIcSXkHGTbbX",
        "outputId": "5830740e-6191-4c0f-9153-29ecacb20d52"
      },
      "execution_count": 85,
      "outputs": [
        {
          "output_type": "execute_result",
          "data": {
            "text/plain": [
              "tensor([[[ 0.0002, -0.0147, -0.0170],\n",
              "         [-0.0129, -0.0331, -0.0367],\n",
              "         [ 0.0278,  0.0177, -0.0184]],\n",
              "\n",
              "        [[ 0.0105,  0.0314,  0.0248],\n",
              "         [-0.0127, -0.0295, -0.0118],\n",
              "         [-0.0094, -0.0089, -0.0313]],\n",
              "\n",
              "        [[-0.0078, -0.0293,  0.0054],\n",
              "         [-0.0138, -0.0111,  0.0050],\n",
              "         [-0.0025,  0.0074,  0.0054]],\n",
              "\n",
              "        ...,\n",
              "\n",
              "        [[-0.0010, -0.0103, -0.0300],\n",
              "         [-0.0038,  0.0020, -0.0163],\n",
              "         [-0.0018,  0.0084, -0.0085]],\n",
              "\n",
              "        [[-0.0182, -0.0135, -0.0175],\n",
              "         [ 0.0225,  0.0574,  0.0193],\n",
              "         [-0.0250, -0.0321, -0.0082]],\n",
              "\n",
              "        [[ 0.0037,  0.0049, -0.0058],\n",
              "         [-0.0169,  0.0001,  0.0004],\n",
              "         [-0.0026,  0.0011,  0.0011]]])"
            ]
          },
          "metadata": {},
          "execution_count": 85
        }
      ]
    },
    {
      "cell_type": "code",
      "source": [
        "\n",
        "model_conv = train_model(model_conv, criterion, optimizer_conv,\n",
        "                         exp_lr_scheduler, num_epochs=25)"
      ],
      "metadata": {
        "colab": {
          "base_uri": "https://localhost:8080/"
        },
        "id": "BC1qPw49FF7w",
        "outputId": "785f9ce3-f86a-4b1a-d2bd-eff28671ab02"
      },
      "execution_count": 86,
      "outputs": [
        {
          "output_type": "stream",
          "name": "stdout",
          "text": [
            "Epoch 0/24\n",
            "----------\n",
            "train Loss: 0.7602 Acc: 0.5000\n",
            "val Loss: 0.6334 Acc: 0.5000\n",
            "\n",
            "Epoch 1/24\n",
            "----------\n",
            "train Loss: 0.4392 Acc: 1.0000\n",
            "val Loss: 0.6327 Acc: 0.5000\n",
            "\n",
            "Epoch 2/24\n",
            "----------\n",
            "train Loss: 0.6517 Acc: 0.7500\n",
            "val Loss: 0.6343 Acc: 0.5000\n",
            "\n",
            "Epoch 3/24\n",
            "----------\n",
            "train Loss: 0.5027 Acc: 1.0000\n",
            "val Loss: 0.6209 Acc: 0.5000\n",
            "\n",
            "Epoch 4/24\n",
            "----------\n",
            "train Loss: 0.4034 Acc: 0.7500\n",
            "val Loss: 0.6242 Acc: 0.5000\n",
            "\n",
            "Epoch 5/24\n",
            "----------\n",
            "train Loss: 0.3956 Acc: 1.0000\n",
            "val Loss: 0.6230 Acc: 0.5000\n",
            "\n",
            "Epoch 6/24\n",
            "----------\n",
            "train Loss: 0.3581 Acc: 1.0000\n",
            "val Loss: 0.6013 Acc: 0.5000\n",
            "\n",
            "Epoch 7/24\n",
            "----------\n",
            "train Loss: 0.2972 Acc: 1.0000\n",
            "val Loss: 0.6112 Acc: 0.5000\n",
            "\n",
            "Epoch 8/24\n",
            "----------\n",
            "train Loss: 0.3580 Acc: 1.0000\n",
            "val Loss: 0.6213 Acc: 0.7500\n",
            "\n",
            "Epoch 9/24\n",
            "----------\n",
            "train Loss: 0.2569 Acc: 1.0000\n",
            "val Loss: 0.6165 Acc: 0.7500\n",
            "\n",
            "Epoch 10/24\n",
            "----------\n",
            "train Loss: 0.3991 Acc: 1.0000\n",
            "val Loss: 0.6101 Acc: 0.7500\n",
            "\n",
            "Epoch 11/24\n",
            "----------\n",
            "train Loss: 0.3436 Acc: 1.0000\n",
            "val Loss: 0.6191 Acc: 0.7500\n",
            "\n",
            "Epoch 12/24\n",
            "----------\n",
            "train Loss: 0.3444 Acc: 1.0000\n",
            "val Loss: 0.6226 Acc: 0.7500\n",
            "\n",
            "Epoch 13/24\n",
            "----------\n",
            "train Loss: 0.2272 Acc: 1.0000\n",
            "val Loss: 0.6199 Acc: 0.7500\n",
            "\n",
            "Epoch 14/24\n",
            "----------\n",
            "train Loss: 0.3318 Acc: 1.0000\n",
            "val Loss: 0.6331 Acc: 0.7500\n",
            "\n",
            "Epoch 15/24\n",
            "----------\n",
            "train Loss: 0.2962 Acc: 1.0000\n",
            "val Loss: 0.6401 Acc: 0.7500\n",
            "\n",
            "Epoch 16/24\n",
            "----------\n",
            "train Loss: 0.3155 Acc: 1.0000\n",
            "val Loss: 0.6529 Acc: 0.7500\n",
            "\n",
            "Epoch 17/24\n",
            "----------\n",
            "train Loss: 0.2295 Acc: 1.0000\n",
            "val Loss: 0.6613 Acc: 0.7500\n",
            "\n",
            "Epoch 18/24\n",
            "----------\n",
            "train Loss: 0.4421 Acc: 0.7500\n",
            "val Loss: 0.6643 Acc: 0.7500\n",
            "\n",
            "Epoch 19/24\n",
            "----------\n",
            "train Loss: 0.2136 Acc: 1.0000\n",
            "val Loss: 0.6624 Acc: 0.7500\n",
            "\n",
            "Epoch 20/24\n",
            "----------\n",
            "train Loss: 0.2387 Acc: 1.0000\n",
            "val Loss: 0.6679 Acc: 0.7500\n",
            "\n",
            "Epoch 21/24\n",
            "----------\n",
            "train Loss: 0.2829 Acc: 1.0000\n",
            "val Loss: 0.6765 Acc: 0.7500\n",
            "\n",
            "Epoch 22/24\n",
            "----------\n",
            "train Loss: 0.2893 Acc: 1.0000\n",
            "val Loss: 0.6827 Acc: 0.7500\n",
            "\n",
            "Epoch 23/24\n",
            "----------\n",
            "train Loss: 0.3822 Acc: 1.0000\n",
            "val Loss: 0.6906 Acc: 0.7500\n",
            "\n",
            "Epoch 24/24\n",
            "----------\n",
            "train Loss: 0.3227 Acc: 1.0000\n",
            "val Loss: 0.7024 Acc: 0.5000\n",
            "\n",
            "Training complete in 0m 18s\n",
            "Best val Acc: 0.750000\n"
          ]
        }
      ]
    },
    {
      "cell_type": "code",
      "source": [
        "model_conv.layer4[0].conv2.weight[0]"
      ],
      "metadata": {
        "colab": {
          "base_uri": "https://localhost:8080/"
        },
        "id": "W7vCMbCBFFkj",
        "outputId": "f8f90fd6-769d-4e6f-b0c2-18c574e82719"
      },
      "execution_count": 87,
      "outputs": [
        {
          "output_type": "execute_result",
          "data": {
            "text/plain": [
              "tensor([[[ 0.0002, -0.0147, -0.0170],\n",
              "         [-0.0129, -0.0331, -0.0367],\n",
              "         [ 0.0278,  0.0177, -0.0184]],\n",
              "\n",
              "        [[ 0.0105,  0.0314,  0.0248],\n",
              "         [-0.0127, -0.0295, -0.0118],\n",
              "         [-0.0094, -0.0089, -0.0313]],\n",
              "\n",
              "        [[-0.0078, -0.0293,  0.0054],\n",
              "         [-0.0138, -0.0111,  0.0050],\n",
              "         [-0.0025,  0.0074,  0.0054]],\n",
              "\n",
              "        ...,\n",
              "\n",
              "        [[-0.0010, -0.0103, -0.0300],\n",
              "         [-0.0038,  0.0020, -0.0163],\n",
              "         [-0.0018,  0.0084, -0.0085]],\n",
              "\n",
              "        [[-0.0182, -0.0135, -0.0175],\n",
              "         [ 0.0225,  0.0574,  0.0193],\n",
              "         [-0.0250, -0.0321, -0.0082]],\n",
              "\n",
              "        [[ 0.0037,  0.0049, -0.0058],\n",
              "         [-0.0169,  0.0001,  0.0004],\n",
              "         [-0.0026,  0.0011,  0.0011]]])"
            ]
          },
          "metadata": {},
          "execution_count": 87
        }
      ]
    },
    {
      "cell_type": "code",
      "source": [],
      "metadata": {
        "id": "93_6n5S3TIVQ"
      },
      "execution_count": null,
      "outputs": []
    },
    {
      "cell_type": "code",
      "source": [],
      "metadata": {
        "id": "eBHkjJ-BFZCF"
      },
      "execution_count": 82,
      "outputs": []
    },
    {
      "cell_type": "code",
      "source": [],
      "metadata": {
        "id": "2dMpiuEVFczj"
      },
      "execution_count": 83,
      "outputs": []
    },
    {
      "cell_type": "code",
      "source": [],
      "metadata": {
        "id": "_E6Mqf04Fd_c"
      },
      "execution_count": null,
      "outputs": []
    }
  ]
}